{
 "cells": [
  {
   "cell_type": "markdown",
   "metadata": {},
   "source": [
    "# Load a local ONNX model and do inference"
   ]
  },
  {
   "cell_type": "markdown",
   "metadata": {},
   "source": [
    "## Load model"
   ]
  },
  {
   "cell_type": "code",
   "execution_count": 13,
   "metadata": {},
   "outputs": [
    {
     "name": "stdout",
     "output_type": "stream",
     "text": [
      "id2label mapping: {'0': 'non-adult', '1': 'adult'}\n",
      "Model loaded and checked successfully.\n"
     ]
    }
   ],
   "source": [
    "import onnx\n",
    "import onnxruntime as ort\n",
    "from transformers import DistilBertTokenizer\n",
    "import json\n",
    "\n",
    "# Load the ONNX model\n",
    "model_path = \"../onnxModels/model1/\"\n",
    "onnx_model = onnx.load(model_path+\"model.onnx\")\n",
    "\n",
    "# Load configuration\n",
    "with open(model_path+\"config.json\", \"r\") as f:\n",
    "    config = json.load(f)\n",
    "\n",
    "id2label = config.get(\"id2label\", {})\n",
    "print(f\"id2label mapping: {id2label}\")\n",
    "\n",
    "\n",
    "# Check the model\n",
    "onnx.checker.check_model(onnx_model)\n",
    "\n",
    "# Load the tokenizer\n",
    "tokenizer = DistilBertTokenizer.from_pretrained(\"../onnxModels/model1\")\n",
    "\n",
    "# Create an inference session\n",
    "session = ort.InferenceSession(model_path+\"model.onnx\")\n",
    "\n",
    "print(\"Model loaded and checked successfully.\")"
   ]
  },
  {
   "cell_type": "code",
   "execution_count": 15,
   "metadata": {},
   "outputs": [
    {
     "name": "stdout",
     "output_type": "stream",
     "text": [
      "[[1.1525081e-04 9.9988472e-01]]\n",
      "1\n",
      "Input Text: Porn.\n",
      "Predicted Label: adult\n",
      "Probabilities: [[1.1525081e-04 9.9988472e-01]]\n"
     ]
    }
   ],
   "source": [
    "import numpy as np\n",
    "\n",
    "# Define a random input string\n",
    "input_text = \"Porn.\"\n",
    "\n",
    "# Tokenize the input text\n",
    "tokenized_input = tokenizer(\n",
    "    input_text,\n",
    "    return_tensors=\"np\",  # Convert output to numpy arrays\n",
    "    padding=True,\n",
    "    truncation=True,\n",
    "    max_length=512  # Ensure the sequence length matches the model's requirements\n",
    ")\n",
    "\n",
    "# Extract input IDs and attention mask from the tokenized input\n",
    "input_ids = tokenized_input[\"input_ids\"]\n",
    "attention_mask = tokenized_input[\"attention_mask\"]\n",
    "\n",
    "# Prepare the inputs for the ONNX model\n",
    "onnx_inputs = {\n",
    "    \"input_ids\": input_ids.astype(np.int64),  # Convert to int64 as required by ONNX\n",
    "    \"attention_mask\": attention_mask.astype(np.int64)\n",
    "}\n",
    "\n",
    "# Run inference\n",
    "outputs = session.run(None, onnx_inputs)\n",
    "\n",
    "def softmax(x):\n",
    "    \"\"\"Compute softmax values for each sets of scores in x.\"\"\"\n",
    "    return np.exp(x) / np.sum(np.exp(x), axis=1, keepdims=True)\n",
    "\n",
    "# The outputs variable contains logits. Apply softmax to convert logits to probabilities\n",
    "logits = outputs[0]\n",
    "# use softmax to convert logits to probabilities\n",
    "probabilities = softmax(logits)\n",
    "print(probabilities)\n",
    "\n",
    "# Get the predicted label (index with the highest probability)\n",
    "predicted_label_index = np.argmax(probabilities, axis=1)[0]\n",
    "print(predicted_label_index)\n",
    "\n",
    "\n",
    "# Get the label using the index\n",
    "predicted_label = id2label[str(predicted_label_index)]  # Note: JSON keys are strings\n",
    "print(f\"Input Text: {input_text}\")\n",
    "print(f\"Predicted Label: {predicted_label}\")\n",
    "print(f\"Probabilities: {probabilities}\")"
   ]
  },
  {
   "cell_type": "code",
   "execution_count": null,
   "metadata": {},
   "outputs": [],
   "source": []
  }
 ],
 "metadata": {
  "kernelspec": {
   "display_name": "Python 3",
   "language": "python",
   "name": "python3"
  },
  "language_info": {
   "codemirror_mode": {
    "name": "ipython",
    "version": 3
   },
   "file_extension": ".py",
   "mimetype": "text/x-python",
   "name": "python",
   "nbconvert_exporter": "python",
   "pygments_lexer": "ipython3",
   "version": "3.12.5"
  }
 },
 "nbformat": 4,
 "nbformat_minor": 2
}
